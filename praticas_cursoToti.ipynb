{
  "nbformat": 4,
  "nbformat_minor": 0,
  "metadata": {
    "colab": {
      "provenance": [],
      "authorship_tag": "ABX9TyM5bbTC3jRMj9ThLQ+K6Dbt",
      "include_colab_link": true
    },
    "kernelspec": {
      "name": "python3",
      "display_name": "Python 3"
    },
    "language_info": {
      "name": "python"
    }
  },
  "cells": [
    {
      "cell_type": "markdown",
      "metadata": {
        "id": "view-in-github",
        "colab_type": "text"
      },
      "source": [
        "<a href=\"https://colab.research.google.com/github/ToterMa/Curso-Gif/blob/main/praticas_cursoToti.ipynb\" target=\"_parent\"><img src=\"https://colab.research.google.com/assets/colab-badge.svg\" alt=\"Open In Colab\"/></a>"
      ]
    },
    {
      "cell_type": "code",
      "execution_count": null,
      "metadata": {
        "id": "v5r_em0em3Ml"
      },
      "outputs": [],
      "source": []
    },
    {
      "cell_type": "markdown",
      "source": [
        " **# Praticas aulas de Pyhotn do Curso da Toti**"
      ],
      "metadata": {
        "id": "2dTam9cxnJlZ"
      }
    },
    {
      "cell_type": "markdown",
      "source": [
        "# Aula 9"
      ],
      "metadata": {
        "id": "YwFQJK_TneQ_"
      }
    },
    {
      "cell_type": "code",
      "source": [
        "# "
      ],
      "metadata": {
        "id": "HubmHO3wniR5"
      },
      "execution_count": null,
      "outputs": []
    },
    {
      "cell_type": "code",
      "source": [],
      "metadata": {
        "id": "ULJPMH2mnce6"
      },
      "execution_count": null,
      "outputs": []
    },
    {
      "cell_type": "markdown",
      "source": [
        "**PRATICANDO EXERCICIO 9**\n",
        "# De acordo com a fórmula da equação de segundo grau abaixo. Faça uma função que calcule e imprima os resultados de uma equação de segundo grau. Para que seu código fique organizado, faça uma função extra que calcule o Delta () em seprado. Utilize os seguintes valores como entrada: a = 88, b = 4, c = 16\n"
      ],
      "metadata": {
        "id": "vGt4jdV6-8vV"
      }
    },
    {
      "cell_type": "code",
      "source": [
        "# Calcular as Raízes de uma Equação do 2º Grau"
      ],
      "metadata": {
        "id": "w0gNXGvvV0He"
      },
      "execution_count": null,
      "outputs": []
    },
    {
      "cell_type": "code",
      "source": [
        " def raizes (a,b,c)\n",
        "  D= (-b**2- 4*a*c)\n",
        "  x1=(-b = D**(1/2)) / 2*a\n",
        "  x2= (-b+ D**(1/2)) /2*a\n",
        "  print('\\nValor de x1: {0}'.format(x1))\n",
        "  print('valor de x2: {0}'.format(x2))"
      ],
      "metadata": {
        "colab": {
          "base_uri": "https://localhost:8080/",
          "height": 130
        },
        "id": "-B4E7uRZ57W7",
        "outputId": "d454fc37-de44-4026-fd41-4bb964b96474"
      },
      "execution_count": null,
      "outputs": [
        {
          "output_type": "error",
          "ename": "SyntaxError",
          "evalue": "ignored",
          "traceback": [
            "\u001b[0;36m  File \u001b[0;32m\"<ipython-input-1-1480d319577e>\"\u001b[0;36m, line \u001b[0;32m1\u001b[0m\n\u001b[0;31m    def raizes (a,b,c)\u001b[0m\n\u001b[0m                      ^\u001b[0m\n\u001b[0;31mSyntaxError\u001b[0m\u001b[0;31m:\u001b[0m invalid syntax\n"
          ]
        }
      ]
    },
    {
      "cell_type": "code",
      "source": [
        "D = (=b**2 -(4*a*c))"
      ],
      "metadata": {
        "colab": {
          "base_uri": "https://localhost:8080/",
          "height": 130
        },
        "id": "mYL0bSj8Y6AR",
        "outputId": "5a964614-eaab-4b48-f9df-e4dc6c89df1f"
      },
      "execution_count": null,
      "outputs": [
        {
          "output_type": "error",
          "ename": "SyntaxError",
          "evalue": "ignored",
          "traceback": [
            "\u001b[0;36m  File \u001b[0;32m\"<ipython-input-3-ccf138119cfd>\"\u001b[0;36m, line \u001b[0;32m1\u001b[0m\n\u001b[0;31m    D = (=b**2 -(4*a*c))\u001b[0m\n\u001b[0m         ^\u001b[0m\n\u001b[0;31mSyntaxError\u001b[0m\u001b[0;31m:\u001b[0m invalid syntax\n"
          ]
        }
      ]
    },
    {
      "cell_type": "markdown",
      "source": [
        "PRATICA AULA 10 FUNÇÃO III"
      ],
      "metadata": {
        "id": "8JHQV76mZRgM"
      }
    },
    {
      "cell_type": "code",
      "source": [
        "def calculo_media = ( p1, p2):"
      ],
      "metadata": {
        "colab": {
          "base_uri": "https://localhost:8080/",
          "height": 130
        },
        "id": "M7hh-C73ZW1I",
        "outputId": "59401945-56de-4217-d755-858930feec68"
      },
      "execution_count": null,
      "outputs": [
        {
          "output_type": "error",
          "ename": "SyntaxError",
          "evalue": "ignored",
          "traceback": [
            "\u001b[0;36m  File \u001b[0;32m\"<ipython-input-5-3ed173c76506>\"\u001b[0;36m, line \u001b[0;32m1\u001b[0m\n\u001b[0;31m    def calculo_media = ( p1, p2):\u001b[0m\n\u001b[0m                      ^\u001b[0m\n\u001b[0;31mSyntaxError\u001b[0m\u001b[0;31m:\u001b[0m invalid syntax\n"
          ]
        }
      ]
    },
    {
      "cell_type": "markdown",
      "source": [
        "**AULA 11 PRATICA **BOOLEANOS **texto en negrita**"
      ],
      "metadata": {
        "id": "6a-y4TjTamz0"
      }
    },
    {
      "cell_type": "code",
      "source": [
        "# exercicio 1 O resultado da operação: 7 >= 7 é\n",
        "res = 7 > = 7\n",
        "print (res)"
      ],
      "metadata": {
        "id": "lea0hMG6aswp"
      },
      "execution_count": null,
      "outputs": []
    },
    {
      "cell_type": "code",
      "source": [
        "res = 7 >= 7"
      ],
      "metadata": {
        "id": "HHaQ9vBgbso7"
      },
      "execution_count": null,
      "outputs": []
    },
    {
      "cell_type": "code",
      "source": [
        "print(res)"
      ],
      "metadata": {
        "colab": {
          "base_uri": "https://localhost:8080/"
        },
        "id": "G_w0ntlmbzM3",
        "outputId": "aea429ae-0d3f-4137-b0dd-875ab9881773"
      },
      "execution_count": null,
      "outputs": [
        {
          "output_type": "stream",
          "name": "stdout",
          "text": [
            "True\n"
          ]
        }
      ]
    },
    {
      "cell_type": "code",
      "source": [
        "# Exercicio 2  O resultado da operação: 1 > 3 é:"
      ],
      "metadata": {
        "id": "p_qVtdCTcIjJ"
      },
      "execution_count": null,
      "outputs": []
    },
    {
      "cell_type": "code",
      "source": [
        "res = 1 > 3"
      ],
      "metadata": {
        "id": "B3s3nP76cT_Q"
      },
      "execution_count": null,
      "outputs": []
    },
    {
      "cell_type": "code",
      "source": [
        "print(res)"
      ],
      "metadata": {
        "colab": {
          "base_uri": "https://localhost:8080/"
        },
        "id": "E5z5mxb8cjTQ",
        "outputId": "3d8c7846-e88b-4a0e-9902-6a1405a0b52e"
      },
      "execution_count": null,
      "outputs": [
        {
          "output_type": "stream",
          "name": "stdout",
          "text": [
            "False\n"
          ]
        }
      ]
    },
    {
      "cell_type": "code",
      "source": [
        "# exercicio 3  O resultado da operação: -2 < -5 é:"
      ],
      "metadata": {
        "id": "e6WNIa7xcsSB"
      },
      "execution_count": null,
      "outputs": []
    },
    {
      "cell_type": "code",
      "source": [
        "res= -2 < -5"
      ],
      "metadata": {
        "id": "oJBT53YVdDZl"
      },
      "execution_count": null,
      "outputs": []
    },
    {
      "cell_type": "code",
      "source": [
        "print(res)"
      ],
      "metadata": {
        "colab": {
          "base_uri": "https://localhost:8080/"
        },
        "id": "Wh4dITcedL9F",
        "outputId": "cf55fbef-5ead-40de-f9c7-e7c40c888a4f"
      },
      "execution_count": null,
      "outputs": [
        {
          "output_type": "stream",
          "name": "stdout",
          "text": [
            "False\n"
          ]
        }
      ]
    },
    {
      "cell_type": "code",
      "source": [
        "# exercicio 4 O resultado da operação: 1500 != 1500.0 é"
      ],
      "metadata": {
        "id": "LJbNV6SDdTvG"
      },
      "execution_count": null,
      "outputs": []
    },
    {
      "cell_type": "code",
      "source": [
        "res= 1500 != 1500.0"
      ],
      "metadata": {
        "id": "ULm6UrYzdbTd"
      },
      "execution_count": null,
      "outputs": []
    },
    {
      "cell_type": "code",
      "source": [
        "print(res)"
      ],
      "metadata": {
        "colab": {
          "base_uri": "https://localhost:8080/"
        },
        "id": "Y7Z-8Fy4di-Q",
        "outputId": "cea88bc9-a3ae-4142-a4f3-7905d49742d5"
      },
      "execution_count": null,
      "outputs": [
        {
          "output_type": "stream",
          "name": "stdout",
          "text": [
            "False\n"
          ]
        }
      ]
    },
    {
      "cell_type": "code",
      "source": [
        "# exercicio 5 O resultado da operação: len('oi') >= len('olá') é:\n",
        "# len = medio o tamanho de uma strin"
      ],
      "metadata": {
        "id": "EfRQMeRHdw6D"
      },
      "execution_count": null,
      "outputs": []
    },
    {
      "cell_type": "code",
      "source": [
        "len = ('oi')"
      ],
      "metadata": {
        "id": "Cp8QyyaKsgMO"
      },
      "execution_count": null,
      "outputs": []
    },
    {
      "cell_type": "code",
      "source": [
        "len = ('olá')"
      ],
      "metadata": {
        "id": "Bdz_Hz0v-2FF"
      },
      "execution_count": null,
      "outputs": []
    },
    {
      "cell_type": "code",
      "source": [
        "resul = "
      ],
      "metadata": {
        "id": "Pma60IAIGEzv"
      },
      "execution_count": null,
      "outputs": []
    }
  ]
}